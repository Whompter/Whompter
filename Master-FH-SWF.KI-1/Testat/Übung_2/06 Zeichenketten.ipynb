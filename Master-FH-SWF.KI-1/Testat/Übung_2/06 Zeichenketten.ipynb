{
 "cells": [
  {
   "cell_type": "markdown",
   "metadata": {},
   "source": [
    "### Aufgabe 1\n",
    "\n",
    "*Schreiben Sie eine while-Schleife, die beim letzten Zeichen in der Zeichenkette beginnt und sich rückwärts bis zum ersten Zeichen in der Zeichenkette vorarbeitet, wobei jeder Buchstabe in einer eigenen Zeile ausgegeben wird, natürlich rückwärts.*"
   ]
  },
  {
   "cell_type": "code",
   "execution_count": null,
   "metadata": {},
   "outputs": [],
   "source": [
    "def drucke_zeichen_rueckwaerts(zeichenkette):\n",
    "    # YOUR CODE HERE\n",
    "\n",
    "    index = len(zeichenkette)-1\n",
    "    while index >=0:\n",
    "        print(zeichenkette[index])\n",
    "        index = index -1\n",
    "\n",
    "drucke_zeichen_rueckwaerts(\"Hello\")"
   ]
  },
  {
   "cell_type": "markdown",
   "metadata": {},
   "source": [
    "### Aufgabe 2\n",
    "\n",
    "*Nehmen Sie den folgenden Python-Code, der eine Zeichenkette speichert:*\n",
    "\n",
    "str = 'X-DSPAM-Confidence:0.8475'\n",
    "\n",
    "*Verwenden Sie find und String-Slicing, um den Teil der Zeichenkette nach dem Doppelpunkt zu extrahieren, und verwenden Sie dann die Funktion float, um die extrahierte Teilzeichenkette in eine Fließkommazahl zu konvertieren.*"
   ]
  },
  {
   "cell_type": "code",
   "execution_count": null,
   "metadata": {},
   "outputs": [],
   "source": [
    "def extrahiere_zeichen(zeichenkette):\n",
    "    \n",
    "    str = zeichenkette\n",
    "    index = str.find(\"0\")\n",
    "    print(index)\n",
    "    str_s = float(str[index:])\n",
    "    return str_s\n",
    "\n",
    "extrahiere_zeichen('X-DSPAM-Confidence:0.8475')\n"
   ]
  },
  {
   "cell_type": "markdown",
   "metadata": {},
   "source": [
    "### Aufgabe 3\n",
    "\n",
    "*Schreiben Sie eine Funktion count_vocals, welche die Vokale in einem als Paramter uebergebenem Text zaehlt und die Summe aller Vokale zurueck gibt.*"
   ]
  },
  {
   "cell_type": "code",
   "execution_count": 70,
   "metadata": {},
   "outputs": [
    {
     "data": {
      "text/plain": [
       "58"
      ]
     },
     "execution_count": 70,
     "metadata": {},
     "output_type": "execute_result"
    }
   ],
   "source": [
    "def count_vocals(text):\n",
    "    message = text\n",
    "    message=message.lower()\n",
    "    vocal = message.count('a')\n",
    "    vocal_2 = message.count(\"e\")\n",
    "    vocal_3 = message.count(\"i\")\n",
    "    vocal_4 = message.count(\"o\")\n",
    "    vocal_5 = message.count(\"u\")\n",
    "    vocals = vocal+vocal_2+vocal_3+vocal_4+vocal_5\n",
    "    return vocals\n",
    "\n",
    "count_vocals(\"Ein Vokal oder Selbstlaut ist ein Sprachlaut, bei dessen Artikulation der Phonationsstrom weitgehend ungehindert durch den Mund ausströmen kann. Vokale sind im Allgemeinen stimmhaft.\")\n"
   ]
  },
  {
   "cell_type": "code",
   "execution_count": 69,
   "metadata": {},
   "outputs": [
    {
     "name": "stdout",
     "output_type": "stream",
     "text": [
      "58\n"
     ]
    }
   ],
   "source": [
    "\n",
    "\n",
    "\n",
    "message = \"Ein Vokal oder Selbstlaut ist ein Sprachlaut, bei dessen Artikulation der Phonationsstrom weitgehend ungehindert durch den Mund ausströmen kann. Vokale sind im Allgemeinen stimmhaft.\"\n",
    "message=message.lower()\n",
    "# number of occurrence of 'p'\n",
    "vocal = message.count('a')\n",
    "vocal_2 = message.count(\"e\")\n",
    "vocal_3 = message.count(\"i\")\n",
    "vocal_4 = message.count(\"o\")\n",
    "vocal_5 = message.count(\"u\")\n",
    "vocals = vocal+vocal_2+vocal_3+vocal_4+vocal_5\n",
    "return vocals\n",
    "\n",
    "# Output: Number of occurrence of p: 4"
   ]
  }
 ],
 "metadata": {
  "kernelspec": {
   "display_name": "Python 3.10.6 64-bit",
   "language": "python",
   "name": "python3"
  },
  "language_info": {
   "codemirror_mode": {
    "name": "ipython",
    "version": 3
   },
   "file_extension": ".py",
   "mimetype": "text/x-python",
   "name": "python",
   "nbconvert_exporter": "python",
   "pygments_lexer": "ipython3",
   "version": "3.10.6"
  },
  "orig_nbformat": 4,
  "vscode": {
   "interpreter": {
    "hash": "916dbcbb3f70747c44a77c7bcd40155683ae19c65e1c03b4aa3499c5328201f1"
   }
  }
 },
 "nbformat": 4,
 "nbformat_minor": 2
}
