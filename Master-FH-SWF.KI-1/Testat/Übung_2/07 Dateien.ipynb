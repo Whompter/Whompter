{
 "cells": [
  {
   "cell_type": "markdown",
   "metadata": {},
   "source": [
    "### Aufgabe 1\n",
    "\n",
    "*Schreiben Sie eine Funktion lese_datei, deie eine Datei einliest und den Inhalt der Datei in Grossbuchstaben (Zeile fuer Zeile) ausgib.*\n"
   ]
  },
  {
   "cell_type": "code",
   "execution_count": null,
   "metadata": {},
   "outputs": [],
   "source": [
    "def lese_datei(filename):\n",
    "    with open(filename, \"r\") as fhandle:\n",
    "        for i in fhandle:\n",
    "            print(i.upper(),end=\"\\n\")\n",
    "    \n",
    "\n",
    "lese_datei(\"myfile.txt\")"
   ]
  },
  {
   "cell_type": "markdown",
   "metadata": {},
   "source": [
    "### Aufgabe 2\n",
    "*Schreiben Sie eine Funktion berechne_durchschnitt, die eine Datei einliest und in der Datei nach Zeilen der Form X-DSPAM-Confidence: 0.8475 sucht. Die Zahl kann sich dabei ändern, die anderen Zeichen nicht. Insbesondere muss die Zeile immer mit X-DSPAM... beginnen.\n",
    "Extrahieren Sie die Fließkommerzahl indem Sie die Zeile auftrennen. Berechnen Sie die Summe der Fließkommerzahlen und geben Sie den durchschnittlichen Wert der Fließkommerzahl zurück.*\n"
   ]
  },
  {
   "cell_type": "code",
   "execution_count": null,
   "metadata": {},
   "outputs": [],
   "source": [
    "def berechne_durchschnitt(filename):\n",
    "    count = 0\n",
    "    summe = 0\n",
    "    #öffnung der datei mit rechte lesen und neuem namen als fhandle:\n",
    "    with open(filename, \"r\") as fhandle:\n",
    "        #für jede i in der datei\n",
    "        for line in fhandle:\n",
    "            #entferne leerzeilen der einzelnen zeilen, muss man nicht machen , einfach so eingefügt zum test\n",
    "            line = line.rstrip()\n",
    "            #wenn die zeile mit ... beginnt\n",
    "            if line.startswith(\"X-DSPAM-Confidence:\"):\n",
    "                count = count + 1\n",
    "                #such den index von null der zuvor gesuchten zeile\n",
    "                index = line.find(\"0\")\n",
    "                #extrahiere den string am angegeben gefunden index und formatiere es in einen float um\n",
    "                line_1 = float(line[index:])\n",
    "                summe = line_1 + summe\n",
    "                durchschnitt = summe / count             \n",
    "    return durchschnitt\n",
    "berechne_durchschnitt(\"mbox-short.txt\")"
   ]
  }
 ],
 "metadata": {
  "kernelspec": {
   "display_name": "Python 3.10.6 64-bit",
   "language": "python",
   "name": "python3"
  },
  "language_info": {
   "name": "python",
   "version": "3.10.6"
  },
  "orig_nbformat": 4,
  "vscode": {
   "interpreter": {
    "hash": "916dbcbb3f70747c44a77c7bcd40155683ae19c65e1c03b4aa3499c5328201f1"
   }
  }
 },
 "nbformat": 4,
 "nbformat_minor": 2
}
