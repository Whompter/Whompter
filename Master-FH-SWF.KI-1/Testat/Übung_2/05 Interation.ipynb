{
 "cells": [
  {
   "cell_type": "markdown",
   "metadata": {},
   "source": [
    "### Aufgabe 1\n",
    "\n",
    "*Schreiben Sie ein Programm, das wiederholt Zahlen einliest, bis der Benutzer den Befehl done eingibt. Sobald done eingegeben wurde, geben Sie die Summe, die Anzahl und den Durchschnitt der Zahlen aus. Wenn der Benutzer etwas anderes als eine Zahl eingibt, erkennen Sie seinen Fehler mit try und except und verlassen die Funktion, indem Sie die Fehlermeldung Es werden nur Zahlen akzeptiert. Beenden mit 'done' als Zeichenkette (mit return) zurückgeben.*\n",
    "\n",
    "Erwartete Ausgabe:\n",
    "\n",
    "    Bitte eine Zahl eingeben: 2\n",
    "    Bitte eine Zahl eingeben: 4\n",
    "    Bitte eine Zahl eingeben: 6\n",
    "    Bitte eine Zahl eingeben: done\n",
    "    Anzahl: 3 Summe: 12.0 Durchschnitt: 4.0\n"
   ]
  },
  {
   "cell_type": "code",
   "execution_count": 34,
   "metadata": {},
   "outputs": [
    {
     "data": {
      "text/plain": [
       "'Anzahl: 0 Summe: 0 Durchschnitt: 0'"
      ]
     },
     "execution_count": 34,
     "metadata": {},
     "output_type": "execute_result"
    }
   ],
   "source": [
    "def durchschnitt ():\n",
    "    anzahl = 0\n",
    "    summe = 0\n",
    "    durchschnitt = 0\n",
    "\n",
    "    while True:\n",
    "        zahl = input(\"Bitte eine Zahl eingeben: \")\n",
    "        if zahl == \"done\":\n",
    "            break\n",
    "        \n",
    "        try:\n",
    "            zahl = float(zahl)\n",
    "            summe = summe + zahl\n",
    "            anzahl = anzahl +1\n",
    "            durchschnitt = summe/anzahl\n",
    "        \n",
    "        except:\n",
    "            return\"Es werden nur Zahlen akzeptiert. Beenden mit done\"\n",
    "    \n",
    "    return f\"Anzahl: {anzahl} Summe: {summe} Durchschnitt: {durchschnitt}\"\n",
    "\n",
    "durchschnitt() \n",
    "\n"
   ]
  },
  {
   "cell_type": "markdown",
   "metadata": {},
   "source": [
    "### Aufgabe 2\n",
    "\n",
    "*Schreiben Sie ein weiteres Programm, das eine Liste von Zahlen wie oben abfragt und am Ende sowohl das Maximum als auch das Minimum der Zahlen anstelle des Durchschnitts ausgibt.*\n",
    "\n",
    "\n"
   ]
  },
  {
   "cell_type": "code",
   "execution_count": 5,
   "metadata": {},
   "outputs": [
    {
     "name": "stdout",
     "output_type": "stream",
     "text": [
      "Minimum: -1.0 Maximum: 78.0\n"
     ]
    },
    {
     "data": {
      "text/plain": [
       "'Minimum: -1.0 Maximum: 78.0'"
      ]
     },
     "execution_count": 5,
     "metadata": {},
     "output_type": "execute_result"
    }
   ],
   "source": [
    "def minmax():\n",
    "    anzahl = 0\n",
    "    minimum = None\n",
    "    maximum = None\n",
    "    # YOUR CODE HERE\n",
    "    while True:\n",
    "        zahl = input(\"Bitte eine Zahl eingeben: \")\n",
    "        if zahl == \"done\":\n",
    "            break\n",
    "        \n",
    "        try:\n",
    "            zahl = float(zahl)\n",
    "            if minimum is None or zahl < minimum:\n",
    "                minimum = zahl\n",
    "            if maximum is None or zahl > maximum:\n",
    "                maximum = zahl \n",
    "        \n",
    "        except:\n",
    "            return\"Es werden nur Zahlen akzeptiert. Beenden mit done\"\n",
    "    \n",
    "    erg = \"Minimum: \" + str(minimum) + \" Maximum: \" + str(maximum)\n",
    "    print(erg)\n",
    "    return erg\n",
    "\n",
    "minmax()"
   ]
  }
 ],
 "metadata": {
  "kernelspec": {
   "display_name": "Python 3.10.6 64-bit",
   "language": "python",
   "name": "python3"
  },
  "language_info": {
   "codemirror_mode": {
    "name": "ipython",
    "version": 3
   },
   "file_extension": ".py",
   "mimetype": "text/x-python",
   "name": "python",
   "nbconvert_exporter": "python",
   "pygments_lexer": "ipython3",
   "version": "3.10.6"
  },
  "orig_nbformat": 4,
  "vscode": {
   "interpreter": {
    "hash": "916dbcbb3f70747c44a77c7bcd40155683ae19c65e1c03b4aa3499c5328201f1"
   }
  }
 },
 "nbformat": 4,
 "nbformat_minor": 2
}
