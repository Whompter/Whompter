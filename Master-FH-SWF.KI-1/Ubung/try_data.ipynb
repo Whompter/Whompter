{
 "cells": [
  {
   "cell_type": "markdown",
   "metadata": {},
   "source": [
    "### Problem lösen um auch negative Zahlen den richtigen Abstand der Wert zu erhalten"
   ]
  },
  {
   "cell_type": "code",
   "execution_count": 2,
   "metadata": {},
   "outputs": [
    {
     "name": "stdout",
     "output_type": "stream",
     "text": [
      "Zwischen 4 und 2 liegen 1 Werte\n"
     ]
    }
   ],
   "source": [
    "\n",
    "z = int(input(\"Gib eine Zahl ein:\"))\n",
    "y = int(input(\"Gib eine weitere Zahl ein:\"))\n",
    "\n",
    "if z > y:\n",
    "    z_2 = z-y-1\n",
    "else:\n",
    "    y_2 = y-z-1\n",
    "\n",
    "\n",
    "\n",
    "print(f\"Zwischen {z} und {y} liegen {z_2} Werte\")"
   ]
  },
  {
   "cell_type": "code",
   "execution_count": 144,
   "metadata": {},
   "outputs": [
    {
     "name": "stdout",
     "output_type": "stream",
     "text": [
      "Anzahl Arbeitsstunden:45\n",
      "Anzahl Arbeitsstunden:10\n",
      "Monatsgehalt: 475.0\n"
     ]
    }
   ],
   "source": [
    "def lohnberechnung (arbeitsstunden,stundenlohn):\n",
    "\n",
    "    if arbeitsstunden > 40:\n",
    "        arbeit_2 = arbeitsstunden - 40\n",
    "        arbeit_3 = arbeit_2* (stundenlohn*1.5)\n",
    "        zahlung= arbeit_3 + 40*stundenlohn\n",
    "    else:\n",
    "        zahlung = arbeitsstunden*stundenlohn\n",
    "    print(f\"Anzahl Arbeitsstunden:{arbeitsstunden}\")\n",
    "    print(f\"Anzahl Arbeitsstunden:{stundenlohn}\")\n",
    "    print(f\"Monatsgehalt: {zahlung}\")\n",
    "    \n",
    "\n",
    "lohnberechnung(45,10)\n",
    "\n",
    "\n"
   ]
  },
  {
   "cell_type": "code",
   "execution_count": 79,
   "metadata": {},
   "outputs": [
    {
     "name": "stdout",
     "output_type": "stream",
     "text": [
      "[6, 3, 8, 8]\n"
     ]
    }
   ],
   "source": []
  }
 ],
 "metadata": {
  "kernelspec": {
   "display_name": "Python 3.10.7 64-bit (microsoft store)",
   "language": "python",
   "name": "python3"
  },
  "language_info": {
   "codemirror_mode": {
    "name": "ipython",
    "version": 3
   },
   "file_extension": ".py",
   "mimetype": "text/x-python",
   "name": "python",
   "nbconvert_exporter": "python",
   "pygments_lexer": "ipython3",
   "version": "3.10.7"
  },
  "orig_nbformat": 4,
  "vscode": {
   "interpreter": {
    "hash": "e9b16b11d3e6975ae321f926760cfc737ce40c710997c24952b72af962c54401"
   }
  }
 },
 "nbformat": 4,
 "nbformat_minor": 2
}
