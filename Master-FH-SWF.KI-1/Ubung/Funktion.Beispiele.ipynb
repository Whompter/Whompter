{
 "cells": [
  {
   "cell_type": "markdown",
   "metadata": {},
   "source": [
    "### Berechnung eines Kreises ohne die Bibliothek math (PI besitzt nur 2 Kommastellen)"
   ]
  },
  {
   "cell_type": "code",
   "execution_count": 19,
   "metadata": {},
   "outputs": [
    {
     "name": "stdout",
     "output_type": "stream",
     "text": [
      "Umfang des Kreises = 43.96 Zentimeter\n",
      "Fläche des Kreises = 153.86 Quadratzentimeter\n"
     ]
    }
   ],
   "source": [
    "\n",
    "r=7\n",
    "f= 3.14 * r**2\n",
    "u= 2*r*3.14\n",
    "\n",
    "print(f\"Umfang des Kreises = {u} Zentimeter\")\n",
    "print(f\"Fläche des Kreises = {f} Quadratzentimeter\")"
   ]
  },
  {
   "cell_type": "markdown",
   "metadata": {},
   "source": [
    "### Import math Bibliothek\n",
    "\n",
    "*Durch den Import des Moduls **math** kann die benötigte PI Zahl bis auf die 15. Stelle nach dem Komma verwendet werden, was zu einem genauerem Ergebnis führt als im Vergleich zum obigen Code*\n"
   ]
  },
  {
   "cell_type": "code",
   "execution_count": 20,
   "metadata": {},
   "outputs": [
    {
     "name": "stdout",
     "output_type": "stream",
     "text": [
      "Umfang des Kreises = 43.982297150257104 Zentimeter\n",
      "Fläche des Kreises = 153.93804002589985 Quadratzentimeter\n"
     ]
    }
   ],
   "source": [
    "import math\n",
    "r=7\n",
    "f= math.pi * r**2\n",
    "u= 2*r*math.pi\n",
    "\n",
    "print(f\"Umfang des Kreises = {u} Zentimeter\")\n",
    "print(f\"Fläche des Kreises = {f} Quadratzentimeter\")"
   ]
  },
  {
   "cell_type": "markdown",
   "metadata": {},
   "source": [
    "### Import random ()\n",
    "\n",
    "*Computer Programm geben durch die gleichen Eingaben jeweils die gleiche Ausgabe aus, weshalb sie als   **deterministisch** bezeichnet werden*\n",
    "\n",
    "*Um ein Progamm als nicht-deterministisch ausehen zu lassen können Zufallszahlen verwendet werden. \n",
    "Die Funktion **random()** erzeugt zufällige Zahlen (auch wenn diese auf eine deterministische Berechnung basieren)*\n",
    "\n",
    "*Die Funktion **random()** erzeugt dabei einen Float der zwischen [0,0-1.0[ liegt.*"
   ]
  },
  {
   "cell_type": "code",
   "execution_count": 17,
   "metadata": {},
   "outputs": [
    {
     "name": "stdout",
     "output_type": "stream",
     "text": [
      "0.5996152181241163\n",
      "0.553662308023376\n",
      "0.25935800796068487\n",
      "0.01976021781706494\n",
      "0.5870772075365347\n",
      "0.7465345778339524\n",
      "0.2976143650984946\n",
      "0.786251090730306\n",
      "0.6901579333617119\n",
      "0.2926865440962768\n"
     ]
    }
   ],
   "source": [
    "import random\n",
    "\n",
    "for i in range(10):\n",
    "    x = random.random()\n",
    "    print(x)\n"
   ]
  },
  {
   "cell_type": "markdown",
   "metadata": {},
   "source": [
    "*Der obige Code erstellt eine Liste mit 10 zufälligen Zahlen*"
   ]
  },
  {
   "cell_type": "markdown",
   "metadata": {},
   "source": [
    " **Generierung einer Liste mit zufälligen Elementen**"
   ]
  },
  {
   "cell_type": "markdown",
   "metadata": {},
   "source": [
    "*Um eine Liste mit zufälligen gewählten Elementen zu erstellen, benötigt man die Function **random.sample()** . Die Funktion nimmt eine zufällige Zahl aus einer vorgegeben Anzahl an Zahlen (liste) und gibt diese aus. \n",
    "In dem Beispiel ist k = Liste (was bedeutet das daraus (Daten) die neue Liste entsteht) und die 4 = k (hierbei steht k für die neuen Elemente aus der Liste). Beachte das k > Liste ist.*"
   ]
  },
  {
   "cell_type": "code",
   "execution_count": null,
   "metadata": {},
   "outputs": [],
   "source": [
    "import random\n",
    "liste = [2,3,4,5,6,7,8,8,9]\n",
    "list = random.sample(liste,4)\n",
    "print(list)"
   ]
  },
  {
   "cell_type": "markdown",
   "metadata": {},
   "source": [
    "*Um eine Liste zu erstellen die mit komplett zufälligen Zahlen geäwhlt wird erweitert man die Funktion beim Argument population  um die Funktion **range()**. Wichtig das Komma nach der range () zu setzen*"
   ]
  },
  {
   "cell_type": "code",
   "execution_count": null,
   "metadata": {},
   "outputs": [],
   "source": [
    "import random\n",
    "\n",
    "list = random.sample(range(100),10)\n",
    "print(list)"
   ]
  },
  {
   "cell_type": "markdown",
   "metadata": {},
   "source": [
    "### Def Funktion(Parameter)\n",
    "\n",
    "*In Python können auch anstatt der vorgegeben Funktion, eigene Funktionen erstellt werden. Hierfür verwendat man das Schlüsselwort **def**. Der eigens erstellten Funktion kann beinah jeder x beliebige Name gegeben werden. Der eigenen Funktionen können Parameter übermittelt werden, müssen aber nicht. Um eine FUnktion aufzurufen muss lediglich der Funktionsname eingegeben werden*"
   ]
  },
  {
   "cell_type": "code",
   "execution_count": 3,
   "metadata": {},
   "outputs": [
    {
     "data": {
      "text/plain": [
       "[7, 8, 5, 3]"
      ]
     },
     "execution_count": 3,
     "metadata": {},
     "output_type": "execute_result"
    }
   ],
   "source": [
    "def liste_zufall():\n",
    "    import random\n",
    "\n",
    "    list = random.sample(range(10),4)\n",
    "    return list\n",
    "\n",
    "liste_zufall()\n"
   ]
  },
  {
   "cell_type": "markdown",
   "metadata": {},
   "source": [
    "*In der eigens erstellten Funktion wurden keine weiteren Parameter übermittelt. Ist hierbei auch nicht nötig, da die 10 und 4 bereits in der Funktion enthalten sind. Möchten man die Funktion mit immer wieder neuen Zahlen und Ausgabewerten ausgeben, müssen in der FUnktion die Parameter angegeben werden. In dem Fall fügen wir bei **def liste_zufall()** das **n** und das **k** als Parameter hinzu und ändern die 10 in range() in **n** und die 4 in **k**.*\n"
   ]
  },
  {
   "cell_type": "code",
   "execution_count": 6,
   "metadata": {},
   "outputs": [
    {
     "data": {
      "text/plain": [
       "[15, 3, 7, 1, 4, 11]"
      ]
     },
     "execution_count": 6,
     "metadata": {},
     "output_type": "execute_result"
    }
   ],
   "source": [
    "def liste_zufall(n,k):\n",
    "    import random\n",
    "\n",
    "    list = random.sample(range(n),k)\n",
    "    return list\n",
    "\n",
    "liste_zufall(18,6)\n",
    "#Beim Funktionsaufruf definieren welche Parameter n und k erhalten sollen. \n",
    "#In dem Beispiel ist es die Zahl 100 für n und die Zahl 20 für k"
   ]
  },
  {
   "cell_type": "markdown",
   "metadata": {},
   "source": [
    "*Um die Ergebnisse der Funktion zu speichern sollte diese einer Variable zugeordnet werden um später wieder darauf zu zu greifen können*"
   ]
  },
  {
   "cell_type": "code",
   "execution_count": 24,
   "metadata": {},
   "outputs": [
    {
     "name": "stdout",
     "output_type": "stream",
     "text": [
      "[16, 13, 3, 9, 6, 8]\n"
     ]
    }
   ],
   "source": [
    "def liste_zufall(n,k):\n",
    "    import random\n",
    "\n",
    "    list = random.sample(range(n),k)\n",
    "    return list\n",
    "liste=liste_zufall(18,6)\n",
    "\n",
    "print(liste)\n",
    "\n",
    "\n"
   ]
  }
 ],
 "metadata": {
  "kernelspec": {
   "display_name": "Python 3.10.7 64-bit (microsoft store)",
   "language": "python",
   "name": "python3"
  },
  "language_info": {
   "codemirror_mode": {
    "name": "ipython",
    "version": 3
   },
   "file_extension": ".py",
   "mimetype": "text/x-python",
   "name": "python",
   "nbconvert_exporter": "python",
   "pygments_lexer": "ipython3",
   "version": "3.10.7"
  },
  "orig_nbformat": 4,
  "vscode": {
   "interpreter": {
    "hash": "e9b16b11d3e6975ae321f926760cfc737ce40c710997c24952b72af962c54401"
   }
  }
 },
 "nbformat": 4,
 "nbformat_minor": 2
}
