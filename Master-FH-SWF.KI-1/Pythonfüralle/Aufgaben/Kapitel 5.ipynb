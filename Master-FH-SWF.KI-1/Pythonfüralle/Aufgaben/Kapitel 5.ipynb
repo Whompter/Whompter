{
 "cells": [
  {
   "cell_type": "markdown",
   "metadata": {},
   "source": [
    "## Übung 8\n"
   ]
  }
 ],
 "metadata": {
  "kernelspec": {
   "display_name": "Python 3.10.7 64-bit (microsoft store)",
   "language": "python",
   "name": "python3"
  },
  "language_info": {
   "name": "python",
   "version": "3.10.7"
  },
  "orig_nbformat": 4,
  "vscode": {
   "interpreter": {
    "hash": "e9b16b11d3e6975ae321f926760cfc737ce40c710997c24952b72af962c54401"
   }
  }
 },
 "nbformat": 4,
 "nbformat_minor": 2
}
