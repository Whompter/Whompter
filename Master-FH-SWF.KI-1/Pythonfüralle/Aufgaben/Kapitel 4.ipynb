{
 "cells": [
  {
   "cell_type": "markdown",
   "metadata": {},
   "source": [
    "### Übung 6: \n",
    "Schreiben Sie ihr Programm zur Lohnberechnung (mit 1,4-fachem Stundenlohn bei Überstunden) um. \n",
    "Ergänzen Sie eine Funktion lohnberechnung, welche die beiden Parameter arbeitsstunden und stundenlohn entgegennimmt.\n",
    "\n",
    "*Erwatete Ausgabe:*\n",
    "\n",
    "    Anzahl Arbeitsstunden: 45\n",
    "\n",
    "    Stundenlohn: 10\n",
    "\n",
    "    Monatsgehalt: 475.0"
   ]
  },
  {
   "cell_type": "code",
   "execution_count": null,
   "metadata": {},
   "outputs": [
    {
     "name": "stdout",
     "output_type": "stream",
     "text": [
      "Anzahl Arbeitsstunden:45\n",
      "Anzahl Arbeitsstunden:10\n",
      "Monatsgehalt: 475.0\n"
     ]
    }
   ],
   "source": [
    "def lohnberechnung (arbeitsstunden,stundenlohn):\n",
    "\n",
    "    if arbeitsstunden > 40:\n",
    "        arbeit_2 = arbeitsstunden - 40\n",
    "        arbeit_3 = arbeit_2* (stundenlohn*1.5)\n",
    "        zahlung= arbeit_3 + 40*stundenlohn\n",
    "    else:\n",
    "        zahlung = arbeitsstunden*stundenlohn\n",
    "    print(f\"Anzahl Arbeitsstunden:{arbeitsstunden}\")\n",
    "    print(f\"Anzahl Arbeitsstunden:{stundenlohn}\")\n",
    "    print(f\"Monatsgehalt: {zahlung}\")\n",
    "    \n",
    "\n",
    "lohnberechnung(45,10)\n"
   ]
  },
  {
   "cell_type": "markdown",
   "metadata": {},
   "source": [
    "### Übung 7: \n",
    "Schreiben Sie das Benotungsprogramm aus dem vorigen Kapitel neu, indem Sie eine Funktion namens notenberechnung verwenden, die eine Punktzahl als Parameter annimmt und eine Note zurückgibt.\n",
    "\n",
    "*Erwatete Ausgabe*\n",
    "\n",
    "    Punkte eingeben: 0.95\n",
    "    1\n",
    "    Punkte eingeben: perfekt\n",
    "    Falsche Punktzahl\n",
    "    Punkte eingeben: 10.0\n",
    "    Falsche Punktzahl\n",
    "    Punkte eingeben: 0.75\n",
    "    3\n",
    "    Punkte eingeben: 0.5\n",
    "    5"
   ]
  },
  {
   "cell_type": "code",
   "execution_count": 6,
   "metadata": {},
   "outputs": [
    {
     "name": "stdout",
     "output_type": "stream",
     "text": [
      "Falsche Punktanzahl, bitte geben Sie die Punkte von 0.0 bis 1.0 ein\n"
     ]
    }
   ],
   "source": [
    "def notenberechnung(n):\n",
    "    try:\n",
    "        n = float(n)\n",
    "        if 0.0 <= n <=1.0:\n",
    "            if n >= 0.9:\n",
    "                return 1\n",
    "            elif n >= 0.8:\n",
    "                return 2\n",
    "            elif n >= 0.7:\n",
    "                return 3\n",
    "            elif n >= 0.6:\n",
    "                return 4\n",
    "            else:\n",
    "                return 5\n",
    "        else:\n",
    "            g = \"Falsche Punktanzahl, bitte geben Sie die Punkte von 0.0 bis 1.0 ein\"\n",
    "            print(g)\n",
    "    \n",
    "    except:\n",
    "        print(\"Falsch. Bitte geben Sie die Punkte von 0.0 bis 1.0 ein.\")\n",
    "    \n",
    "notenberechnung(1.1)\n",
    "\n"
   ]
  },
  {
   "cell_type": "code",
   "execution_count": null,
   "metadata": {},
   "outputs": [],
   "source": []
  }
 ],
 "metadata": {
  "kernelspec": {
   "display_name": "Python 3.10.7 64-bit (microsoft store)",
   "language": "python",
   "name": "python3"
  },
  "language_info": {
   "codemirror_mode": {
    "name": "ipython",
    "version": 3
   },
   "file_extension": ".py",
   "mimetype": "text/x-python",
   "name": "python",
   "nbconvert_exporter": "python",
   "pygments_lexer": "ipython3",
   "version": "3.10.7"
  },
  "orig_nbformat": 4,
  "vscode": {
   "interpreter": {
    "hash": "e9b16b11d3e6975ae321f926760cfc737ce40c710997c24952b72af962c54401"
   }
  }
 },
 "nbformat": 4,
 "nbformat_minor": 2
}
