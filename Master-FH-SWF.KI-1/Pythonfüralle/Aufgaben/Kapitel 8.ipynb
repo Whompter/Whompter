{
 "cells": [
  {
   "cell_type": "code",
   "execution_count": 9,
   "metadata": {},
   "outputs": [
    {
     "name": "stdout",
     "output_type": "stream",
     "text": [
      "[17, 5]\n",
      "[34, 10]\n",
      "2\n",
      "[68, 20]\n"
     ]
    }
   ],
   "source": [
    "numbers = [17,123]\n",
    "numbers[1] = 5\n",
    "print(numbers)\n",
    "\n",
    "for i in range(len(numbers)):\n",
    "    numbers[i] = numbers[i]*2\n",
    "print(numbers)\n",
    "\n",
    "print(len(numbers))\n",
    "\n",
    "for i, wert in enumerate(numbers):\n",
    "    numbers[i] = wert*2\n",
    "print(numbers)"
   ]
  },
  {
   "cell_type": "code",
   "execution_count": 10,
   "metadata": {},
   "outputs": [
    {
     "name": "stdout",
     "output_type": "stream",
     "text": [
      "[17, 5]\n",
      "[34, 10]\n"
     ]
    }
   ],
   "source": [
    "numbers = [17,123]\n",
    "numbers[1] = 5\n",
    "print(numbers)\n",
    "\n",
    "\n",
    "for i, wert in enumerate(numbers):\n",
    "    numbers[i] = wert*2\n",
    "print(numbers)"
   ]
  },
  {
   "cell_type": "code",
   "execution_count": 26,
   "metadata": {},
   "outputs": [
    {
     "name": "stdout",
     "output_type": "stream",
     "text": [
      "[0, 3, 6, 9, 12, 15, 18]\n",
      "[0, 'banane', 'apfel', 'thank you', 12, 15, 18]\n",
      "[0, 'banane', 'apfel', 'thank you', 12, 15, 18]\n",
      "[0, 'banane', 'apfel', 'ipad pro', 'hochzeitstag', 15, 18]\n",
      "[0, 'banane', 'apfel', 'thank you', 12, 15, 18]\n"
     ]
    }
   ],
   "source": [
    "liste = list(range(0,20,3))\n",
    "print(liste)\n",
    "\n",
    "liste[1:4] = ['banane','apfel','thank you']\n",
    "print(liste)\n",
    "kopieliste = liste[:]\n",
    "print(kopieliste)\n",
    "\n",
    "liste[3:5]= [\"ipad pro\",'hochzeitstag']\n",
    "print(liste)\n",
    "print(kopieliste)"
   ]
  },
  {
   "cell_type": "code",
   "execution_count": 6,
   "metadata": {},
   "outputs": [
    {
     "name": "stdout",
     "output_type": "stream",
     "text": [
      "[1, 2, 3, 4, [6, 7, 8]]\n",
      "[1, 2, 3, 4, [6, 7, 8], 6, 7, 8]\n"
     ]
    }
   ],
   "source": [
    "t = [1,2,3,4]\n",
    "t2 = [6,7,8]\n",
    "#t.extend(t2)\n",
    "#print(t)\n",
    "#print(t2)\n",
    "\n",
    "\n",
    "t.append(t2)\n",
    "print(t)\n",
    "\n",
    "t.extend(t2)\n",
    "print(t)"
   ]
  },
  {
   "cell_type": "code",
   "execution_count": 25,
   "metadata": {},
   "outputs": [
    {
     "name": "stdout",
     "output_type": "stream",
     "text": [
      "[2, 7, 19, 15, 17, 9, 10]\n",
      "[2, 7, 9, 10, 15, 17, 19]\n"
     ]
    }
   ],
   "source": [
    "import random as rd\n",
    "from re import T\n",
    "t = rd.sample(range(20),7)\n",
    "l = t\n",
    "l = sorted(l)\n",
    "print(t)\n",
    "print(l)\n",
    "\n",
    "\n",
    "\n",
    "\n"
   ]
  },
  {
   "cell_type": "code",
   "execution_count": 30,
   "metadata": {},
   "outputs": [
    {
     "name": "stdout",
     "output_type": "stream",
     "text": [
      "[1, 2, 3, 4, 6, 7, 8]\n",
      "[1, 2, 4, 6, 7, 8]\n",
      "3\n",
      "[1, 2, 4, 7, 8]\n",
      "6\n"
     ]
    }
   ],
   "source": [
    "t = [1,2,3,4]\n",
    "t2 = [6,7,8]\n",
    "t.extend(t2)\n",
    "\n",
    "t.sort()\n",
    "print(t)\n",
    "x = []\n",
    "x = t.pop(2)\n",
    "print(t)\n",
    "print(x)\n",
    "\n",
    "\n",
    "x = t.pop(3)\n",
    "print(t)\n",
    "print(x)\n",
    "\n",
    "# Wie kann ich meherer geloeschte Elemente in einer neuen \n",
    "# Liste speichern"
   ]
  }
 ],
 "metadata": {
  "kernelspec": {
   "display_name": "Python 3.10.6 64-bit",
   "language": "python",
   "name": "python3"
  },
  "language_info": {
   "codemirror_mode": {
    "name": "ipython",
    "version": 3
   },
   "file_extension": ".py",
   "mimetype": "text/x-python",
   "name": "python",
   "nbconvert_exporter": "python",
   "pygments_lexer": "ipython3",
   "version": "3.10.6"
  },
  "orig_nbformat": 4,
  "vscode": {
   "interpreter": {
    "hash": "916dbcbb3f70747c44a77c7bcd40155683ae19c65e1c03b4aa3499c5328201f1"
   }
  }
 },
 "nbformat": 4,
 "nbformat_minor": 2
}
